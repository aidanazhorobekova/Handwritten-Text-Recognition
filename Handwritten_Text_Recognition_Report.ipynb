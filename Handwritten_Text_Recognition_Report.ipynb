{
 "cells": [
  {
   "cell_type": "markdown",
   "id": "1199b554-2261-4a65-b744-5845bfd5ad0a",
   "metadata": {},
   "source": [
    "# Handwritten Text Recognition\n",
    "\n",
    "## Introduction\n",
    "# This project focuses on building a deep learning model to perform Optical Character Recognition (OCR) specifically for handwritten text.\n",
    "# The objective is to improve OCR accuracy on handwritten images by training a custom model using a dataset of handwritten samples.\n",
    "# The model aims to identify and transcribe text from images, making it suitable for various applications, such as document digitization and archival of handwritten materials.\n"
   ]
  },
  {
   "cell_type": "code",
   "execution_count": 1,
   "id": "d16dd9a8-1dd7-4072-a96e-b612c3257c6b",
   "metadata": {},
   "outputs": [],
   "source": [
    "# Import necessary libraries\n",
    "import os\n",
    "import pandas as pd\n",
    "import numpy as np\n",
    "import matplotlib.pyplot as plt\n",
    "import cv2\n",
    "from tensorflow.keras.models import load_model\n",
    "from sklearn.preprocessing import LabelEncoder"
   ]
  },
  {
   "cell_type": "code",
   "execution_count": 2,
   "id": "3d542aac-936b-4794-8a52-fb5cb071bb9e",
   "metadata": {},
   "outputs": [],
   "source": [
    "# Set up paths for data\n",
    "train_data_path = 'train_v2'\n",
    "validation_data_path = 'validation_v2'\n",
    "\n",
    "# Load CSV files with labels\n",
    "train_labels = pd.read_csv('written_name_train_v2.csv')\n",
    "validation_labels = pd.read_csv('written_name_validation_v2.csv')"
   ]
  },
  {
   "cell_type": "code",
   "execution_count": 3,
   "id": "5dbaec7b-f0f6-4ef0-9662-d2c1fb8fc0a9",
   "metadata": {},
   "outputs": [
    {
     "name": "stdout",
     "output_type": "stream",
     "text": [
      "Missing values in training data: FILENAME    0\n",
      "IDENTITY    0\n",
      "dtype: int64\n",
      "Missing values in validation data: FILENAME    0\n",
      "IDENTITY    0\n",
      "dtype: int64\n"
     ]
    }
   ],
   "source": [
    "# Check for missing values\n",
    "print(\"Missing values in training data:\", train_labels.isnull().sum())\n",
    "print(\"Missing values in validation data:\", validation_labels.isnull().sum())\n"
   ]
  },
  {
   "cell_type": "code",
   "execution_count": 4,
   "id": "c67d1939",
   "metadata": {},
   "outputs": [],
   "source": [
    "# Function to load and preprocess images\n",
    "def load_and_preprocess_image(img_path, img_size=(128, 32)):\n",
    "    import cv2\n",
    "    import numpy as np\n",
    "    image = cv2.imread(img_path, cv2.IMREAD_GRAYSCALE)\n",
    "    if image is None:\n",
    "        return None\n",
    "    h, w = image.shape\n",
    "    scale_factor = min(img_size[1] / h, img_size[0] / w)\n",
    "    new_w, new_h = int(w * scale_factor), int(h * scale_factor)\n",
    "    resized_image = cv2.resize(image, (new_w, new_h))\n",
    "    \n",
    "    # Добавляем паддинг для центрирования\n",
    "    padded_image = np.zeros((img_size[1], img_size[0]), dtype=np.float32)\n",
    "    padded_image[:new_h, :new_w] = resized_image\n",
    "    padded_image = padded_image / 255.0\n",
    "    return padded_image\n",
    "\n",
    "# Function to process data and load images\n",
    "def preprocess_data(data_path, labels, img_size=(128, 32)):\n",
    "    images = []\n",
    "    texts = []\n",
    "    for _, row in labels.iterrows():\n",
    "        img_path = os.path.join(data_path, row['FILENAME'])\n",
    "        if os.path.exists(img_path) and pd.notnull(row['IDENTITY']):\n",
    "            images.append(load_and_preprocess_image(img_path, img_size))\n",
    "            texts.append(row['IDENTITY'])\n",
    "    return np.array(images), np.array(texts)\n",
    "\n",
    "# Preprocess training and validation data\n",
    "train_images, train_texts = preprocess_data(train_data_path, train_labels)\n",
    "validation_images, validation_texts = preprocess_data(validation_data_path, validation_labels)\n"
   ]
  },
  {
   "cell_type": "code",
   "execution_count": 5,
   "id": "1c882769-2ca6-4de6-80c0-b66e4e79a0e9",
   "metadata": {},
   "outputs": [],
   "source": [
    "# Combine training and validation labels to fit the label encoder\n",
    "all_labels = pd.concat([train_labels['IDENTITY'], validation_labels['IDENTITY']]).dropna().unique()\n",
    "label_encoder = LabelEncoder()\n",
    "label_encoder.fit(all_labels)\n",
    "\n",
    "# Encode training and validation labels\n",
    "train_labels['ENCODED_IDENTITY'] = label_encoder.transform(train_labels['IDENTITY'].dropna())\n",
    "validation_labels['ENCODED_IDENTITY'] = label_encoder.transform(validation_labels['IDENTITY'].dropna())\n",
    "\n",
    "# Convert to numpy arrays\n",
    "train_labels_encoded = np.array(train_labels['ENCODED_IDENTITY'], dtype=np.int32)\n",
    "validation_labels_encoded = np.array(validation_labels['ENCODED_IDENTITY'], dtype=np.int32)\n"
   ]
  },
  {
   "cell_type": "code",
   "execution_count": 6,
   "id": "7ff09698",
   "metadata": {
    "scrolled": true
   },
   "outputs": [
    {
     "name": "stdout",
     "output_type": "stream",
     "text": [
      "Epoch 1/5\n"
     ]
    },
    {
     "name": "stderr",
     "output_type": "stream",
     "text": [
      "/Users/aidanazhorobekova/Desktop/Handwritten-Text-Recognition-main copy/.venv/lib/python3.11/site-packages/keras/src/layers/convolutional/base_conv.py:107: UserWarning: Do not pass an `input_shape`/`input_dim` argument to a layer. When using Sequential models, prefer using an `Input(shape)` object as the first layer in the model instead.\n",
      "  super().__init__(activity_regularizer=activity_regularizer, **kwargs)\n"
     ]
    },
    {
     "name": "stdout",
     "output_type": "stream",
     "text": [
      "\u001b[1m4/4\u001b[0m \u001b[32m━━━━━━━━━━━━━━━━━━━━\u001b[0m\u001b[37m\u001b[0m \u001b[1m1s\u001b[0m 151ms/step - accuracy: 0.0053 - loss: 5.3445 - val_accuracy: 0.0000e+00 - val_loss: 5.3902\n",
      "Epoch 2/5\n",
      "\u001b[1m4/4\u001b[0m \u001b[32m━━━━━━━━━━━━━━━━━━━━\u001b[0m\u001b[37m\u001b[0m \u001b[1m1s\u001b[0m 183ms/step - accuracy: 0.0768 - loss: 5.1515 - val_accuracy: 0.0000e+00 - val_loss: 5.5195\n",
      "Epoch 3/5\n",
      "\u001b[1m4/4\u001b[0m \u001b[32m━━━━━━━━━━━━━━━━━━━━\u001b[0m\u001b[37m\u001b[0m \u001b[1m1s\u001b[0m 195ms/step - accuracy: 0.0718 - loss: 4.9705 - val_accuracy: 0.0000e+00 - val_loss: 5.9100\n",
      "Epoch 4/5\n",
      "\u001b[1m4/4\u001b[0m \u001b[32m━━━━━━━━━━━━━━━━━━━━\u001b[0m\u001b[37m\u001b[0m \u001b[1m1s\u001b[0m 221ms/step - accuracy: 0.0895 - loss: 4.7090 - val_accuracy: 0.0000e+00 - val_loss: 6.0990\n",
      "Epoch 5/5\n",
      "\u001b[1m4/4\u001b[0m \u001b[32m━━━━━━━━━━━━━━━━━━━━\u001b[0m\u001b[37m\u001b[0m \u001b[1m1s\u001b[0m 162ms/step - accuracy: 0.0763 - loss: 4.4257 - val_accuracy: 0.0000e+00 - val_loss: 6.6057\n"
     ]
    },
    {
     "name": "stderr",
     "output_type": "stream",
     "text": [
      "WARNING:absl:You are saving your model as an HDF5 file via `model.save()` or `keras.saving.save_model(model)`. This file format is considered legacy. We recommend using instead the native Keras format, e.g. `model.save('my_model.keras')` or `keras.saving.save_model(model, 'my_model.keras')`. \n"
     ]
    }
   ],
   "source": [
    "from tensorflow.keras import layers, models\n",
    "\n",
    "# Function to create the model\n",
    "def create_model(input_shape=(128, 32, 1), num_classes=100):\n",
    "    model = models.Sequential([\n",
    "        layers.Conv2D(32, (3, 3), activation='relu', input_shape=input_shape),\n",
    "        layers.MaxPooling2D((2, 2)),\n",
    "        layers.Conv2D(64, (3, 3), activation='relu'),\n",
    "        layers.MaxPooling2D((2, 2)),\n",
    "        layers.Flatten(),\n",
    "        layers.Dense(128, activation='relu'),\n",
    "        layers.Dense(num_classes, activation='softmax')\n",
    "    ])\n",
    "    model.compile(optimizer='adam', loss='sparse_categorical_crossentropy', metrics=['accuracy'])\n",
    "    return model\n",
    "\n",
    "# Create and train the model\n",
    "model = create_model(input_shape=(128, 32, 1), num_classes=len(label_encoder.classes_))\n",
    "history = model.fit(train_images, train_labels_encoded, epochs=5, validation_data=(validation_images, validation_labels_encoded), batch_size=32)\n",
    "\n",
    "# Save the trained model\n",
    "model.save('saved_model_handwritten/model.h5')"
   ]
  },
  {
   "cell_type": "code",
   "execution_count": 7,
   "id": "57b8657a",
   "metadata": {
    "scrolled": true
   },
   "outputs": [
    {
     "data": {
      "image/png": "[encoded data removed]",
      "text/plain": [
       "<Figure size 1000x500 with 5 Axes>"
      ]
     },
     "metadata": {},
     "output_type": "display_data"
    }
   ],
   "source": [
    "# Функция отображения изображений\n",
    "def display_sample_images(data_path, labels, num_samples=5):\n",
    "    samples = labels.sample(n=num_samples).reset_index()\n",
    "    plt.figure(figsize=(10, 5))\n",
    "    for i in range(num_samples):\n",
    "        img_path = os.path.join(data_path, samples.loc[i, 'FILENAME'])\n",
    "        if os.path.exists(img_path):\n",
    "            image = cv2.imread(img_path, cv2.IMREAD_GRAYSCALE)\n",
    "            plt.subplot(1, num_samples, i+1)\n",
    "            plt.imshow(image, cmap='gray')\n",
    "            plt.title(samples.loc[i, 'IDENTITY'])\n",
    "            plt.axis('off')\n",
    "    plt.show()\n",
    "\n",
    "display_sample_images(train_data_path, train_labels)\n"
   ]
  },
  {
   "cell_type": "markdown",
   "id": "421b446f",
   "metadata": {},
   "source": [
    "## Conclusion\n",
    "# This project demonstrates a fundamental approach to handwritten text recognition using deep learning.\n",
    "# The model can recognize handwritten characters with reasonable accuracy.\n",
    "# Further improvements could include using a more sophisticated architecture or expanding the dataset to capture more handwriting variations.\n",
    "# Future work could also explore recurrent or attention-based models for improved accuracy in recognizing complex sequences of characters."
   ]
  }
 ],
 "metadata": {
  "kernelspec": {
   "display_name": "Python 3 (ipykernel)",
   "language": "python",
   "name": "python3"
  },
  "language_info": {
   "codemirror_mode": {
    "name": "ipython",
    "version": 3
   },
   "file_extension": ".py",
   "mimetype": "text/x-python",
   "name": "python",
   "nbconvert_exporter": "python",
   "pygments_lexer": "ipython3",
   "version": "3.11.10"
  }
 },
 "nbformat": 4,
 "nbformat_minor": 5
}
